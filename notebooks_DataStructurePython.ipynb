{
  "metadata": {
    "language_info": {
      "codemirror_mode": {
        "name": "python",
        "version": 3
      },
      "file_extension": ".py",
      "mimetype": "text/x-python",
      "name": "python",
      "nbconvert_exporter": "python",
      "pygments_lexer": "ipython3",
      "version": "3.8"
    },
    "kernelspec": {
      "name": "python",
      "display_name": "Python (Pyodide)",
      "language": "python"
    }
  },
  "nbformat_minor": 4,
  "nbformat": 4,
  "cells": [
    {
      "cell_type": "code",
      "source": "fruits=[\"mango\", \"orange\",\"kiwi\", \"pineapple\",\"apple\",\"bannan\",\"apple\"]\n#fruits.count(\"apple\")\nfruits.index(\"kiwi\")\nlen(fruits) #Finding the length of the list\n#getting the second element of the list\nfruits[1] \n#getting the last element\nfruits[-1]\n#finding the next apple after first postion\nfruits.index(\"apple\",1)\n#finding the next apple after 4 postion, here you have to give one position more than the last postion\nfruits.index(\"apple\",5)\n#reverse the order\nfruits.reverse()\nfruits\nrev_fruits=fruits\nfruits.reverse()\nfruits, fruits.reverse(),fruits\n#append,it appends at the last of the list\nfruits.append(\"sita fal\")\nfruits\n#insert, insert at any location\nfruits.insert(7,4)\nfruits\nfruits.insert(-1,\"last\")\nfruits\nfruits.insert(len(fruits),\"last\") #THis is similar to the append\nfruits\nfruits.append(\"last\") #THis is similar to the insert(len(fruits),\"last\") \nfruits\n#Removes all the even number index\nfruits.remove(\n    \n#Remove all the \n",
      "metadata": {
        "trusted": true
      },
      "execution_count": 38,
      "outputs": [
        {
          "execution_count": 38,
          "output_type": "execute_result",
          "data": {
            "text/plain": "['apple',\n 'bannan',\n 'apple',\n 'pineapple',\n 'kiwi',\n 'orange',\n 'mango',\n 4,\n 'last',\n 'sita fal',\n 'last',\n 'last']"
          },
          "metadata": {}
        }
      ]
    },
    {
      "cell_type": "code",
      "source": "",
      "metadata": {},
      "execution_count": null,
      "outputs": []
    },
    {
      "cell_type": "code",
      "source": "",
      "metadata": {},
      "execution_count": null,
      "outputs": []
    }
  ]
}